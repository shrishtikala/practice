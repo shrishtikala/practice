{
  "nbformat": 4,
  "nbformat_minor": 0,
  "metadata": {
    "colab": {
      "name": "stem_lemmetization.ipynb",
      "version": "0.3.2",
      "provenance": [],
      "collapsed_sections": [],
      "include_colab_link": true
    },
    "kernelspec": {
      "name": "python3",
      "display_name": "Python 3"
    }
  },
  "cells": [
    {
      "cell_type": "markdown",
      "metadata": {
        "id": "view-in-github",
        "colab_type": "text"
      },
      "source": [
        "<a href=\"https://colab.research.google.com/github/shrishtikala/practice/blob/master/stem_lemmetization.ipynb\" target=\"_parent\"><img src=\"https://colab.research.google.com/assets/colab-badge.svg\" alt=\"Open In Colab\"/></a>"
      ]
    },
    {
      "cell_type": "code",
      "metadata": {
        "id": "_6WpE-Dvdkq2",
        "colab_type": "code",
        "colab": {
          "base_uri": "https://localhost:8080/",
          "height": 104
        },
        "outputId": "eb086f2b-f67d-4434-8da7-74d307c6dd2e"
      },
      "source": [
        "from nltk import stem\n",
        "from nltk.stem import PorterStemmer   # for stemming\n",
        "from nltk.stem import WordNetLemmatizer  # lemma\n",
        "from nltk.tokenize import sent_tokenize,word_tokenize\n",
        "from nltk.corpus  import stopwords\n",
        "import nltk\n",
        "nltk.download('punkt')\n",
        "nltk.download('stopwords')\n",
        "\n",
        "\n",
        "\n"
      ],
      "execution_count": 1,
      "outputs": [
        {
          "output_type": "stream",
          "text": [
            "[nltk_data] Downloading package punkt to /root/nltk_data...\n",
            "[nltk_data]   Package punkt is already up-to-date!\n",
            "[nltk_data] Downloading package stopwords to /root/nltk_data...\n",
            "[nltk_data]   Package stopwords is already up-to-date!\n"
          ],
          "name": "stdout"
        },
        {
          "output_type": "execute_result",
          "data": {
            "text/plain": [
              "True"
            ]
          },
          "metadata": {
            "tags": []
          },
          "execution_count": 1
        }
      ]
    },
    {
      "cell_type": "code",
      "metadata": {
        "id": "C9omJbdBdv2r",
        "colab_type": "code",
        "colab": {}
      },
      "source": [
        "#dir(stem)\n",
        "port=PorterStemmer()\n",
        "data=\"hello everyone okayy bye get lost there is no one here\"\n",
        "\n"
      ],
      "execution_count": 0,
      "outputs": []
    },
    {
      "cell_type": "code",
      "metadata": {
        "id": "dJ-WQ7W0b7Nq",
        "colab_type": "code",
        "colab": {}
      },
      "source": [
        "tdata=word_tokenize(data)"
      ],
      "execution_count": 0,
      "outputs": []
    },
    {
      "cell_type": "code",
      "metadata": {
        "id": "bC4TbWOBdz_0",
        "colab_type": "code",
        "colab": {}
      },
      "source": [
        "'''\n",
        "# word supply\n",
        "for i in ['going','goes','gone','go','intelligent','intelligence','intelligently','cars','car']:\n",
        "  print(port.stem(i))\n",
        "  time.sleep(1)\n",
        "'''\n",
        "removedata=[i for i in tdata if i.lower() not in stopwords.words(\"english\")]\n",
        "\n"
      ],
      "execution_count": 0,
      "outputs": []
    },
    {
      "cell_type": "code",
      "metadata": {
        "id": "BYX1-hq5eWbQ",
        "colab_type": "code",
        "colab": {
          "base_uri": "https://localhost:8080/",
          "height": 34
        },
        "outputId": "d7f07577-d351-490f-e4ab-3a9d02b87fd6"
      },
      "source": [
        "removedata"
      ],
      "execution_count": 5,
      "outputs": [
        {
          "output_type": "execute_result",
          "data": {
            "text/plain": [
              "['hello', 'everyone', 'okayy', 'bye', 'get', 'lost', 'one']"
            ]
          },
          "metadata": {
            "tags": []
          },
          "execution_count": 5
        }
      ]
    },
    {
      "cell_type": "code",
      "metadata": {
        "id": "T-Y0V-Q8ccWd",
        "colab_type": "code",
        "colab": {}
      },
      "source": [
        ""
      ],
      "execution_count": 0,
      "outputs": []
    }
  ]
}