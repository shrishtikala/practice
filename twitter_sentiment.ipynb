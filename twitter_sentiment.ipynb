{
  "nbformat": 4,
  "nbformat_minor": 0,
  "metadata": {
    "colab": {
      "name": "twitter_sentiment.ipynb",
      "version": "0.3.2",
      "provenance": [],
      "collapsed_sections": [],
      "include_colab_link": true
    },
    "kernelspec": {
      "name": "python3",
      "display_name": "Python 3"
    }
  },
  "cells": [
    {
      "cell_type": "markdown",
      "metadata": {
        "id": "view-in-github",
        "colab_type": "text"
      },
      "source": [
        "<a href=\"https://colab.research.google.com/github/shrishtikala/practice/blob/master/twitter_sentiment.ipynb\" target=\"_parent\"><img src=\"https://colab.research.google.com/assets/colab-badge.svg\" alt=\"Open In Colab\"/></a>"
      ]
    },
    {
      "cell_type": "code",
      "metadata": {
        "id": "I8t3ezAbLHiF",
        "colab_type": "code",
        "colab": {}
      },
      "source": [
        "import tweepy\n",
        "import matplotlib.pyplot as plt\n",
        "import time\n",
        "import textblob\n",
        "from textblob import TextBlob\n"
      ],
      "execution_count": 0,
      "outputs": []
    },
    {
      "cell_type": "code",
      "metadata": {
        "id": "oIYJJ88DLbWU",
        "colab_type": "code",
        "colab": {}
      },
      "source": [
        "#all 4 authentication keys ato access twitter API\n",
        "# to connect as OAuth handler or jump server/ reverse proxy server\n",
        "consumer_key=''\n",
        "consumer_sec=''\n",
        "\n",
        "# for proxy server we need to connect to web server of twitter \n",
        "access_token=''\n",
        "access_sec=''"
      ],
      "execution_count": 0,
      "outputs": []
    },
    {
      "cell_type": "code",
      "metadata": {
        "id": "wE7WABEwOWvY",
        "colab_type": "code",
        "colab": {}
      },
      "source": [
        "# tweepy exploring:---\n",
        "# connecting to jump server of twitter    cons key , cons secret\n",
        "tweepy.OAuthHandler(consumer_key,consumer_sec)"
      ],
      "execution_count": 0,
      "outputs": []
    },
    {
      "cell_type": "code",
      "metadata": {
        "id": "2KlOqACdOgah",
        "colab_type": "code",
        "colab": {}
      },
      "source": [
        "# now we can connect from jump server to web server of twitter\n",
        "\n",
        "auth.set_access_token(acccess_token,access_sec)"
      ],
      "execution_count": 0,
      "outputs": []
    },
    {
      "cell_type": "code",
      "metadata": {
        "id": "TC4zohuOPChq",
        "colab_type": "code",
        "colab": {}
      },
      "source": [
        "# now we connect to api storage server of twitter\n",
        "api_connect=tweepy.API(auth)"
      ],
      "execution_count": 0,
      "outputs": []
    },
    {
      "cell_type": "code",
      "metadata": {
        "id": "8mKtDUpePgNm",
        "colab_type": "code",
        "colab": {}
      },
      "source": [
        "# now u can search any topic on twitterrr\n",
        "api_connect.search('modi',count=20)\n",
        "# we are searching modi on twitter through this\n",
        "# count=10 means 10 tweets"
      ],
      "execution_count": 0,
      "outputs": []
    },
    {
      "cell_type": "code",
      "metadata": {
        "id": "Z6A1ZCmkPuBC",
        "colab_type": "code",
        "colab": {}
      },
      "source": [
        "pos=0\n",
        "neg=0\n",
        "neu=0\n",
        "# printing line by line \n",
        "for tweet in tweet_data:\n",
        "  #print(tweet.text)\n",
        "  analysis=textblob(tweet.text)    # here it will apply nlp\n",
        "  print(analysis.sentiment())\n",
        "  \n",
        "  # IT WILL SHOWS THE POLARITY OF TOP 20 TWEETS\n",
        "  # now we are checking polarity onlyy\n",
        "  if analysis.sentiment.polarity > 0:\n",
        "    print(\"positive\")\n",
        "    pos=pos+1\n",
        "  elif analysis.sentiment.polarity == 0:\n",
        "    print(\"neutral\")\n",
        "    neu=neu+1\n",
        "  else:\n",
        "    print(\"negative\")\n",
        "    neg=neg+1  \n",
        "    \n",
        "# ploting graphs \n",
        "plt.xlabel(\"tags\")\n",
        "plt.ylabel(\"polarity\")\n",
        "#plt.bar(['pos','neg','neu'],[pos,neg,neu])\n",
        "plt.pie([pos,neg,neu],labels=[\"pos\",\"neg\",\"neu\"],autopct=%1.1f%%)\n",
        "plt.show()\n",
        "#print(tweet.text) --->here we received data from twitter \n"
      ],
      "execution_count": 0,
      "outputs": []
    },
    {
      "cell_type": "code",
      "metadata": {
        "id": "xW0MIBEBQCaP",
        "colab_type": "code",
        "colab": {}
      },
      "source": [
        ""
      ],
      "execution_count": 0,
      "outputs": []
    }
  ]
}