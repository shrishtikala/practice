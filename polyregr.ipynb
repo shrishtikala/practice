{
  "nbformat": 4,
  "nbformat_minor": 0,
  "metadata": {
    "colab": {
      "name": "polyregr.ipynb",
      "version": "0.3.2",
      "provenance": [],
      "collapsed_sections": [],
      "include_colab_link": true
    },
    "kernelspec": {
      "name": "python3",
      "display_name": "Python 3"
    }
  },
  "cells": [
    {
      "cell_type": "markdown",
      "metadata": {
        "id": "view-in-github",
        "colab_type": "text"
      },
      "source": [
        "<a href=\"https://colab.research.google.com/github/shrishtikala/practice/blob/master/polyregr.ipynb\" target=\"_parent\"><img src=\"https://colab.research.google.com/assets/colab-badge.svg\" alt=\"Open In Colab\"/></a>"
      ]
    },
    {
      "cell_type": "code",
      "metadata": {
        "id": "61yk0usLD8QS",
        "colab_type": "code",
        "colab": {}
      },
      "source": [
        "import pandas as pd\n",
        "import matplotlib.pyplot as plt"
      ],
      "execution_count": 0,
      "outputs": []
    },
    {
      "cell_type": "code",
      "metadata": {
        "id": "JGFZzUiEEGys",
        "colab_type": "code",
        "colab": {}
      },
      "source": [
        "# loading data \n",
        "\n",
        "df=pd.read_csv(\"http://13.234.66.67/summer19/datasets/salary.csv\")"
      ],
      "execution_count": 0,
      "outputs": []
    },
    {
      "cell_type": "code",
      "metadata": {
        "id": "6Qax_3f0ETEK",
        "colab_type": "code",
        "colab": {}
      },
      "source": [
        "exp=df.iloc[:,0:1].values"
      ],
      "execution_count": 0,
      "outputs": []
    },
    {
      "cell_type": "code",
      "metadata": {
        "id": "1p_LE1HZEZt1",
        "colab_type": "code",
        "colab": {}
      },
      "source": [
        "sal=df.iloc[:,1:].values"
      ],
      "execution_count": 0,
      "outputs": []
    },
    {
      "cell_type": "code",
      "metadata": {
        "id": "gWRmMFrWEnbV",
        "colab_type": "code",
        "colab": {}
      },
      "source": [
        "\n",
        "#calling linear regression model\n",
        "from sklearn.linear_model import LinearRegression\n",
        "regr1=LinearRegression()"
      ],
      "execution_count": 0,
      "outputs": []
    },
    {
      "cell_type": "code",
      "metadata": {
        "id": "vpWNX954E0mY",
        "colab_type": "code",
        "colab": {}
      },
      "source": [
        "# to transform data we ca call poly transform method\n",
        "from sklearn.preprocessing import PolynomialFeatures"
      ],
      "execution_count": 0,
      "outputs": []
    },
    {
      "cell_type": "code",
      "metadata": {
        "id": "zIOwZGSJFHbT",
        "colab_type": "code",
        "colab": {}
      },
      "source": [
        "#experience transform\n",
        "poly=PolynomialFeatures(degree=15)\n",
        "# degree is raise to power"
      ],
      "execution_count": 0,
      "outputs": []
    },
    {
      "cell_type": "code",
      "metadata": {
        "id": "5ZVL9bYIFUvp",
        "colab_type": "code",
        "colab": {}
      },
      "source": [
        "# experience fit\n",
        "newexp=poly.fit_transform(exp)"
      ],
      "execution_count": 0,
      "outputs": []
    },
    {
      "cell_type": "code",
      "metadata": {
        "id": "n2C8l-etFeB6",
        "colab_type": "code",
        "colab": {}
      },
      "source": [
        "# applying linear regresssion\n",
        "trained1=regr1.fit(exp,sal)"
      ],
      "execution_count": 0,
      "outputs": []
    },
    {
      "cell_type": "code",
      "metadata": {
        "id": "NOggGcZTF-6r",
        "colab_type": "code",
        "colab": {
          "base_uri": "https://localhost:8080/",
          "height": 283
        },
        "outputId": "a8e578f1-4b38-45c0-fcda-a310f1101646"
      },
      "source": [
        "# now creating linear model again\n",
        "plt.xlabel(\"experience\")\n",
        "plt.ylabel(\"salary\")\n",
        "plt.scatter(exp,sal,label=\"actual sal\")\n",
        "plt.plot(exp,trained1.predict(exp),label=\"linear model predict sal\")\n",
        "plt.legend()\n",
        "plt.show()"
      ],
      "execution_count": 10,
      "outputs": [
        {
          "output_type": "display_data",
          "data": {
            "image/png": "[encoded data removed]",
            "text/plain": [
              "<Figure size 432x288 with 1 Axes>"
            ]
          },
          "metadata": {
            "tags": []
          }
        }
      ]
    },
    {
      "cell_type": "code",
      "metadata": {
        "id": "oZl6RmudGfKb",
        "colab_type": "code",
        "colab": {}
      },
      "source": [
        "# applying new exp data model \n",
        "regr2=LinearRegression()"
      ],
      "execution_count": 0,
      "outputs": []
    },
    {
      "cell_type": "code",
      "metadata": {
        "id": "7tKNvhYKG7oL",
        "colab_type": "code",
        "colab": {}
      },
      "source": [
        "# new exp dagta apply\n",
        "trained2=regr2.fit(newexp,sal)"
      ],
      "execution_count": 0,
      "outputs": []
    },
    {
      "cell_type": "code",
      "metadata": {
        "id": "keIdI49rHCJ8",
        "colab_type": "code",
        "colab": {
          "base_uri": "https://localhost:8080/",
          "height": 283
        },
        "outputId": "a741b36c-4925-43a5-e458-a498acd3a362"
      },
      "source": [
        "# now creating linear model again\n",
        "plt.xlabel(\"experience1\")\n",
        "plt.ylabel(\"salary1\")\n",
        "plt.scatter(exp,sal,label=\"actual sal\")\n",
        "plt.plot(exp,trained2.predict(newexp),label=\"newmodel\")\n",
        "plt.legend()\n",
        "plt.show()"
      ],
      "execution_count": 13,
      "outputs": [
        {
          "output_type": "display_data",
          "data": {
            "image/png": "[encoded data removed]",
            "text/plain": [
              "<Figure size 432x288 with 1 Axes>"
            ]
          },
          "metadata": {
            "tags": []
          }
        }
      ]
    },
    {
      "cell_type": "code",
      "metadata": {
        "id": "wiNXeBBIHQdL",
        "colab_type": "code",
        "colab": {}
      },
      "source": [
        ""
      ],
      "execution_count": 0,
      "outputs": []
    },
    {
      "cell_type": "code",
      "metadata": {
        "id": "4jfjksMKJIFO",
        "colab_type": "code",
        "colab": {}
      },
      "source": [
        ""
      ],
      "execution_count": 0,
      "outputs": []
    }
  ]
}