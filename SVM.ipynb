{
  "nbformat": 4,
  "nbformat_minor": 0,
  "metadata": {
    "colab": {
      "name": "SVM.ipynb",
      "version": "0.3.2",
      "provenance": [],
      "include_colab_link": true
    },
    "kernelspec": {
      "name": "python3",
      "display_name": "Python 3"
    }
  },
  "cells": [
    {
      "cell_type": "markdown",
      "metadata": {
        "id": "view-in-github",
        "colab_type": "text"
      },
      "source": [
        "<a href=\"https://colab.research.google.com/github/shrishtikala/practice/blob/master/SVM.ipynb\" target=\"_parent\"><img src=\"https://colab.research.google.com/assets/colab-badge.svg\" alt=\"Open In Colab\"/></a>"
      ]
    },
    {
      "cell_type": "code",
      "metadata": {
        "id": "SU4ihj3YFfgz",
        "colab_type": "code",
        "colab": {}
      },
      "source": [
        "from sklearn.datasets import load_digits"
      ],
      "execution_count": 0,
      "outputs": []
    },
    {
      "cell_type": "code",
      "metadata": {
        "id": "RB36KUo-MKK_",
        "colab_type": "code",
        "colab": {}
      },
      "source": [
        "#calling digit data\n",
        "digit=load_digits()"
      ],
      "execution_count": 0,
      "outputs": []
    },
    {
      "cell_type": "code",
      "metadata": {
        "id": "ZHxufp8iMTR2",
        "colab_type": "code",
        "colab": {
          "base_uri": "https://localhost:8080/",
          "height": 34
        },
        "outputId": "504ad3af-0f8b-44cd-d9f6-8fb218d3410d"
      },
      "source": [
        "dir(digit)"
      ],
      "execution_count": 3,
      "outputs": [
        {
          "output_type": "execute_result",
          "data": {
            "text/plain": [
              "['DESCR', 'data', 'images', 'target', 'target_names']"
            ]
          },
          "metadata": {
            "tags": []
          },
          "execution_count": 3
        }
      ]
    },
    {
      "cell_type": "code",
      "metadata": {
        "id": "ftJNOmhLMXFc",
        "colab_type": "code",
        "colab": {}
      },
      "source": [
        "#features\n",
        "features=digit.data\n",
        "\n",
        "\n",
        "\n",
        "\n"
      ],
      "execution_count": 0,
      "outputs": []
    },
    {
      "cell_type": "code",
      "metadata": {
        "id": "mlsueWHcMiOl",
        "colab_type": "code",
        "colab": {}
      },
      "source": [
        "#label\n",
        "label =digit.target\n"
      ],
      "execution_count": 0,
      "outputs": []
    },
    {
      "cell_type": "code",
      "metadata": {
        "id": "U7E9iwV3MxrQ",
        "colab_type": "code",
        "colab": {}
      },
      "source": [
        "#training and testing\n",
        "from sklearn.model_selection import train_test_split\n",
        "X,x,Y,y=train_test_split(features,label,test_size=0.2,random_scale=0)\n",
        "\n"
      ],
      "execution_count": 0,
      "outputs": []
    },
    {
      "cell_type": "code",
      "metadata": {
        "id": "HF1EIfZyQRn4",
        "colab_type": "code",
        "colab": {}
      },
      "source": [
        ""
      ],
      "execution_count": 0,
      "outputs": []
    },
    {
      "cell_type": "code",
      "metadata": {
        "id": "UUrhVpLLNB_Q",
        "colab_type": "code",
        "colab": {}
      },
      "source": [
        "#data visualization\n",
        "import matplotlib.pyplot as plt"
      ],
      "execution_count": 0,
      "outputs": []
    },
    {
      "cell_type": "code",
      "metadata": {
        "id": "5LFIcZpKNKZx",
        "colab_type": "code",
        "colab": {
          "base_uri": "https://localhost:8080/",
          "height": 286
        },
        "outputId": "7df79fc9-68e5-403b-eb2d-1e7e98bd4cc3"
      },
      "source": [
        "plt.imshow(digit.images[0])"
      ],
      "execution_count": 8,
      "outputs": [
        {
          "output_type": "execute_result",
          "data": {
            "text/plain": [
              "<matplotlib.image.AxesImage at 0x7fc67cb2ba20>"
            ]
          },
          "metadata": {
            "tags": []
          },
          "execution_count": 8
        },
        {
          "output_type": "display_data",
          "data": {
            "image/png": "[encoded data removed]",
            "text/plain": [
              "<Figure size 432x288 with 1 Axes>"
            ]
          },
          "metadata": {
            "tags": []
          }
        }
      ]
    },
    {
      "cell_type": "code",
      "metadata": {
        "id": "TGQPjy8XNgB0",
        "colab_type": "code",
        "colab": {}
      },
      "source": [
        "#now calling svc\n",
        "from sklearn.svm import SVC\n"
      ],
      "execution_count": 0,
      "outputs": []
    },
    {
      "cell_type": "code",
      "metadata": {
        "id": "l9bfeM2zOa7J",
        "colab_type": "code",
        "colab": {}
      },
      "source": [
        "#calling clf\n",
        "clf=SVC()"
      ],
      "execution_count": 0,
      "outputs": []
    },
    {
      "cell_type": "code",
      "metadata": {
        "id": "dL0bmvsWPDHk",
        "colab_type": "code",
        "colab": {
          "base_uri": "https://localhost:8080/",
          "height": 72
        },
        "outputId": "9efbbd0a-2bd0-4ff0-9dc4-b8ffb9855300"
      },
      "source": [
        "# now training my clf\n",
        "trained=clf.fit(x,y)"
      ],
      "execution_count": 15,
      "outputs": [
        {
          "output_type": "stream",
          "text": [
            "/usr/local/lib/python3.6/dist-packages/sklearn/svm/base.py:193: FutureWarning: The default value of gamma will change from 'auto' to 'scale' in version 0.22 to account better for unscaled features. Set gamma explicitly to 'auto' or 'scale' to avoid this warning.\n",
            "  \"avoid this warning.\", FutureWarning)\n"
          ],
          "name": "stderr"
        }
      ]
    },
    {
      "cell_type": "code",
      "metadata": {
        "id": "RFbKf7lQPLQ1",
        "colab_type": "code",
        "colab": {}
      },
      "source": [
        "#now time for prediction\n",
        "output=trained.predict(x)"
      ],
      "execution_count": 0,
      "outputs": []
    },
    {
      "cell_type": "code",
      "metadata": {
        "id": "KvsI5wgDPba_",
        "colab_type": "code",
        "colab": {
          "base_uri": "https://localhost:8080/",
          "height": 312
        },
        "outputId": "facd2825-268f-4c22-a513-5dde18d5387c"
      },
      "source": [
        "output\n"
      ],
      "execution_count": 19,
      "outputs": [
        {
          "output_type": "execute_result",
          "data": {
            "text/plain": [
              "array([2, 8, 0, 7, 2, 9, 5, 6, 7, 5, 8, 6, 7, 9, 3, 2, 4, 7, 8, 1, 4, 7,\n",
              "       1, 6, 0, 5, 1, 3, 6, 4, 7, 6, 6, 4, 8, 9, 4, 5, 3, 3, 4, 1, 8, 9,\n",
              "       3, 4, 6, 7, 9, 8, 4, 0, 5, 7, 7, 4, 2, 6, 1, 8, 6, 9, 3, 3, 1, 4,\n",
              "       0, 0, 6, 0, 3, 8, 4, 5, 0, 9, 7, 0, 5, 7, 6, 5, 3, 9, 6, 5, 9, 6,\n",
              "       0, 9, 9, 6, 1, 2, 4, 4, 0, 1, 1, 3, 3, 2, 8, 6, 1, 2, 1, 3, 4, 8,\n",
              "       4, 3, 3, 7, 8, 6, 1, 8, 0, 9, 4, 7, 9, 3, 2, 5, 6, 5, 0, 5, 9, 2,\n",
              "       8, 9, 2, 3, 8, 2, 3, 2, 0, 0, 5, 5, 0, 6, 8, 8, 6, 8, 9, 9, 4, 1,\n",
              "       6, 5, 4, 5, 3, 7, 5, 4, 3, 7, 2, 0, 2, 4, 0, 2, 2, 1, 0, 0, 3, 8,\n",
              "       1, 4, 2, 9, 4, 2, 0, 2, 9, 8, 5, 3, 0, 5, 9, 0, 4, 0, 8, 3, 8, 5,\n",
              "       7, 7, 7, 1, 2, 5, 1, 4, 8, 4, 6, 5, 0, 2, 3, 9, 8, 6, 2, 3, 5, 9,\n",
              "       0, 7, 8, 5, 7, 9, 4, 9, 9, 8, 4, 1, 8, 0, 0, 0, 7, 8, 1, 4, 5, 0,\n",
              "       1, 2, 6, 7, 2, 4, 6, 1, 4, 2, 7, 4, 6, 2, 8, 5, 6, 5, 0, 1, 3, 8,\n",
              "       3, 0, 9, 9, 1, 0, 3, 0, 0, 9, 3, 0, 4, 9, 8, 8, 4, 7, 4, 0, 2, 0,\n",
              "       4, 4, 8, 2, 0, 7, 3, 7, 9, 6, 6, 8, 1, 3, 4, 6, 8, 1, 9, 1, 4, 5,\n",
              "       7, 5, 1, 4, 7, 1, 0, 5, 9, 6, 4, 3, 4, 9, 0, 4, 5, 8, 4, 3, 8, 1,\n",
              "       7, 2, 1, 5, 7, 8, 7, 7, 1, 5, 5, 0, 4, 9, 6, 6, 1, 7, 5, 2, 1, 1,\n",
              "       1, 0, 3, 7, 7, 7, 5, 2])"
            ]
          },
          "metadata": {
            "tags": []
          },
          "execution_count": 19
        }
      ]
    },
    {
      "cell_type": "code",
      "metadata": {
        "id": "7F96vdj8Pd1z",
        "colab_type": "code",
        "colab": {
          "base_uri": "https://localhost:8080/",
          "height": 312
        },
        "outputId": "7fc6d0ec-b235-4126-ad8a-e3a1b20fda16"
      },
      "source": [
        "y"
      ],
      "execution_count": 20,
      "outputs": [
        {
          "output_type": "execute_result",
          "data": {
            "text/plain": [
              "array([2, 8, 0, 7, 2, 9, 5, 6, 7, 5, 8, 6, 7, 9, 3, 2, 4, 7, 8, 1, 4, 7,\n",
              "       1, 6, 0, 5, 1, 3, 6, 4, 7, 6, 6, 4, 8, 9, 4, 5, 3, 3, 4, 1, 8, 9,\n",
              "       3, 4, 6, 7, 9, 8, 4, 0, 5, 7, 7, 4, 2, 6, 1, 8, 6, 9, 3, 3, 1, 4,\n",
              "       0, 0, 6, 0, 3, 8, 4, 5, 0, 9, 7, 0, 5, 7, 6, 5, 3, 9, 6, 5, 9, 6,\n",
              "       0, 9, 9, 6, 1, 2, 4, 4, 0, 1, 1, 3, 3, 2, 8, 6, 1, 2, 1, 3, 4, 8,\n",
              "       4, 3, 3, 7, 8, 6, 1, 8, 0, 9, 4, 7, 9, 3, 2, 5, 6, 5, 0, 5, 9, 2,\n",
              "       8, 9, 2, 3, 8, 2, 3, 2, 0, 0, 5, 5, 0, 6, 8, 8, 6, 8, 9, 9, 4, 1,\n",
              "       6, 5, 4, 5, 3, 7, 5, 4, 3, 7, 2, 0, 2, 4, 0, 2, 2, 1, 0, 0, 3, 8,\n",
              "       1, 4, 2, 9, 4, 2, 0, 2, 9, 8, 5, 3, 0, 5, 9, 0, 4, 0, 8, 3, 8, 5,\n",
              "       7, 7, 7, 1, 2, 5, 1, 4, 8, 4, 6, 5, 0, 2, 3, 9, 8, 6, 2, 3, 5, 9,\n",
              "       0, 7, 8, 5, 7, 9, 4, 9, 9, 8, 4, 1, 8, 0, 0, 0, 7, 8, 1, 4, 5, 0,\n",
              "       1, 2, 6, 7, 2, 4, 6, 1, 4, 2, 7, 4, 6, 2, 8, 5, 6, 5, 0, 1, 3, 8,\n",
              "       3, 0, 9, 9, 1, 0, 3, 0, 0, 9, 3, 0, 4, 9, 8, 8, 4, 7, 4, 0, 2, 0,\n",
              "       4, 4, 8, 2, 0, 7, 3, 7, 9, 6, 6, 8, 1, 3, 4, 6, 8, 1, 9, 1, 4, 5,\n",
              "       7, 5, 1, 4, 7, 1, 0, 5, 9, 6, 4, 3, 4, 9, 0, 4, 5, 8, 4, 3, 8, 1,\n",
              "       7, 2, 1, 5, 7, 8, 7, 7, 1, 5, 5, 0, 4, 9, 6, 6, 1, 7, 5, 2, 1, 1,\n",
              "       1, 0, 3, 7, 7, 7, 5, 2])"
            ]
          },
          "metadata": {
            "tags": []
          },
          "execution_count": 20
        }
      ]
    },
    {
      "cell_type": "code",
      "metadata": {
        "id": "6pQjxCHXPgV6",
        "colab_type": "code",
        "colab": {}
      },
      "source": [
        "from sklearn.metrics import accuracy_score"
      ],
      "execution_count": 0,
      "outputs": []
    },
    {
      "cell_type": "code",
      "metadata": {
        "id": "J1hjsh_QPp91",
        "colab_type": "code",
        "colab": {
          "base_uri": "https://localhost:8080/",
          "height": 34
        },
        "outputId": "c1cef3ba-0ab3-42b2-8eff-66d130f7f1e2"
      },
      "source": [
        "accuracy_score(output,y)"
      ],
      "execution_count": 26,
      "outputs": [
        {
          "output_type": "execute_result",
          "data": {
            "text/plain": [
              "1.0"
            ]
          },
          "metadata": {
            "tags": []
          },
          "execution_count": 26
        }
      ]
    },
    {
      "cell_type": "code",
      "metadata": {
        "id": "dzgqvK1yQTQ_",
        "colab_type": "code",
        "colab": {}
      },
      "source": [
        ""
      ],
      "execution_count": 0,
      "outputs": []
    }
  ]
}